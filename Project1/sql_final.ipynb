{
 "cells": [
  {
   "cell_type": "markdown",
   "metadata": {},
   "source": [
    "# Выпускной проект по SQL"
   ]
  },
  {
   "cell_type": "markdown",
   "metadata": {},
   "source": [
    "## Описание проекта"
   ]
  },
  {
   "cell_type": "markdown",
   "metadata": {},
   "source": [
    "Коронавирус застал мир врасплох, изменив привычный порядок вещей. В свободное время жители городов больше не выходят на улицу, не посещают кафе и торговые центры. Зато стало больше времени для книг. Это заметили стартаперы — и бросились создавать приложения для тех, кто любит читать.\n",
    "\n",
    "Ваша компания решила быть на волне и купила крупный сервис для чтения книг по подписке. Ваша первая задача как аналитика — проанализировать базу данных.\n",
    "В ней — информация о книгах, издательствах, авторах, а также пользовательские обзоры книг. Эти данные помогут сформулировать ценностное предложение для нового продукта."
   ]
  },
  {
   "cell_type": "markdown",
   "metadata": {},
   "source": [
    "### Описание данных\n",
    "\n",
    "**Таблица `books`**\n",
    "\n",
    "Содержит данные о книгах:\n",
    "\n",
    "- `book_id` — идентификатор книги;\n",
    "- `author_id` — идентификатор автора;\n",
    "- `title` — название книги;\n",
    "- `num_pages` — количество страниц;\n",
    "- `publication_date` — дата публикации книги;\n",
    "- `publisher_id` — идентификатор издателя.\n",
    "\n",
    "**Таблица `authors`**\n",
    "\n",
    "Содержит данные об авторах:\n",
    "\n",
    "- `author_id` — идентификатор автора;\n",
    "- `author` — имя автора.\n",
    "\n",
    "**Таблица `publishers`**\n",
    "\n",
    "Содержит данные об издательствах:\n",
    "\n",
    "- `publisher_id` — идентификатор издательства;\n",
    "- `publisher` — название издательства;\n",
    "\n",
    "**Таблица `ratings`**\n",
    "\n",
    "Содержит данные о пользовательских оценках книг:\n",
    "\n",
    "- `rating_id` — идентификатор оценки;\n",
    "- `book_id` — идентификатор книги;\n",
    "- `username` — имя пользователя, оставившего оценку;\n",
    "- `rating` — оценка книги.\n",
    "\n",
    "**Таблица `reviews`**\n",
    "\n",
    "Содержит данные о пользовательских обзорах на книги:\n",
    "\n",
    "- `review_id` — идентификатор обзора;\n",
    "- `book_id` — идентификатор книги;\n",
    "- `username` — имя пользователя, написавшего обзор;\n",
    "- `text` — текст обзора.\n"
   ]
  },
  {
   "cell_type": "markdown",
   "metadata": {},
   "source": [
    "## Цели исследования"
   ]
  },
  {
   "cell_type": "markdown",
   "metadata": {},
   "source": [
    "Проанализировать базу данных и ответить на следующие вопросы:\n",
    "\n",
    "- Посчитайте, сколько книг вышло после 1 января 2000 года;\n",
    "- Для каждой книги посчитайте количество обзоров и среднюю оценку;\n",
    "- Определите издательство, которое выпустило наибольшее число книг толще 50 страниц — так вы исключите из анализа брошюры;\n",
    "- Определите автора с самой высокой средней оценкой книг — учитывайте только книги с 50 и более оценками;\n",
    "- Посчитайте среднее количество обзоров от пользователей, которые поставили больше 48 оценок."
   ]
  },
  {
   "cell_type": "markdown",
   "metadata": {},
   "source": [
    "### Подключение к базе и исследование таблиц"
   ]
  },
  {
   "cell_type": "code",
   "execution_count": 1,
   "metadata": {},
   "outputs": [],
   "source": [
    "# импортируем библиотеки\n",
    "import pandas as pd\n",
    "from sqlalchemy import text, create_engine\n",
    "\n",
    "# устанавливаем параметры\n",
    "db_config = {'user': 'praktikum_student', # имя пользователя\n",
    "'pwd': 'Sdf4$2;d-d30pp', # пароль\n",
    "'host': 'rc1b-wcoijxj3yxfsf3fs.mdb.yandexcloud.net',\n",
    "'port': 6432, # порт подключения\n",
    "'db': 'data-analyst-final-project-db'} # название базы данных\n",
    "connection_string = 'postgresql://{user}:{pwd}@{host}:{port}/{db}'.format(**db_config)\n",
    "\n",
    "# сохраняем коннектор\n",
    "engine = create_engine(connection_string, connect_args={'sslmode':'require'})"
   ]
  },
  {
   "cell_type": "markdown",
   "metadata": {},
   "source": [
    "**Выведем первые строки таблиц:**"
   ]
  },
  {
   "cell_type": "code",
   "execution_count": 2,
   "metadata": {},
   "outputs": [
    {
     "data": {
      "text/html": [
       "<div>\n",
       "<style scoped>\n",
       "    .dataframe tbody tr th:only-of-type {\n",
       "        vertical-align: middle;\n",
       "    }\n",
       "\n",
       "    .dataframe tbody tr th {\n",
       "        vertical-align: top;\n",
       "    }\n",
       "\n",
       "    .dataframe thead th {\n",
       "        text-align: right;\n",
       "    }\n",
       "</style>\n",
       "<table border=\"1\" class=\"dataframe\">\n",
       "  <thead>\n",
       "    <tr style=\"text-align: right;\">\n",
       "      <th></th>\n",
       "      <th>book_id</th>\n",
       "      <th>author_id</th>\n",
       "      <th>title</th>\n",
       "      <th>num_pages</th>\n",
       "      <th>publication_date</th>\n",
       "      <th>publisher_id</th>\n",
       "    </tr>\n",
       "  </thead>\n",
       "  <tbody>\n",
       "    <tr>\n",
       "      <th>0</th>\n",
       "      <td>1</td>\n",
       "      <td>546</td>\n",
       "      <td>'Salem's Lot</td>\n",
       "      <td>594</td>\n",
       "      <td>2005-11-01</td>\n",
       "      <td>93</td>\n",
       "    </tr>\n",
       "    <tr>\n",
       "      <th>1</th>\n",
       "      <td>2</td>\n",
       "      <td>465</td>\n",
       "      <td>1 000 Places to See Before You Die</td>\n",
       "      <td>992</td>\n",
       "      <td>2003-05-22</td>\n",
       "      <td>336</td>\n",
       "    </tr>\n",
       "    <tr>\n",
       "      <th>2</th>\n",
       "      <td>3</td>\n",
       "      <td>407</td>\n",
       "      <td>13 Little Blue Envelopes (Little Blue Envelope...</td>\n",
       "      <td>322</td>\n",
       "      <td>2010-12-21</td>\n",
       "      <td>135</td>\n",
       "    </tr>\n",
       "    <tr>\n",
       "      <th>3</th>\n",
       "      <td>4</td>\n",
       "      <td>82</td>\n",
       "      <td>1491: New Revelations of the Americas Before C...</td>\n",
       "      <td>541</td>\n",
       "      <td>2006-10-10</td>\n",
       "      <td>309</td>\n",
       "    </tr>\n",
       "    <tr>\n",
       "      <th>4</th>\n",
       "      <td>5</td>\n",
       "      <td>125</td>\n",
       "      <td>1776</td>\n",
       "      <td>386</td>\n",
       "      <td>2006-07-04</td>\n",
       "      <td>268</td>\n",
       "    </tr>\n",
       "    <tr>\n",
       "      <th>...</th>\n",
       "      <td>...</td>\n",
       "      <td>...</td>\n",
       "      <td>...</td>\n",
       "      <td>...</td>\n",
       "      <td>...</td>\n",
       "      <td>...</td>\n",
       "    </tr>\n",
       "    <tr>\n",
       "      <th>995</th>\n",
       "      <td>996</td>\n",
       "      <td>571</td>\n",
       "      <td>Wyrd Sisters (Discworld  #6; Witches #2)</td>\n",
       "      <td>265</td>\n",
       "      <td>2001-02-06</td>\n",
       "      <td>147</td>\n",
       "    </tr>\n",
       "    <tr>\n",
       "      <th>996</th>\n",
       "      <td>997</td>\n",
       "      <td>454</td>\n",
       "      <td>Xenocide (Ender's Saga  #3)</td>\n",
       "      <td>592</td>\n",
       "      <td>1996-07-15</td>\n",
       "      <td>297</td>\n",
       "    </tr>\n",
       "    <tr>\n",
       "      <th>997</th>\n",
       "      <td>998</td>\n",
       "      <td>201</td>\n",
       "      <td>Year of Wonders</td>\n",
       "      <td>358</td>\n",
       "      <td>2002-04-30</td>\n",
       "      <td>212</td>\n",
       "    </tr>\n",
       "    <tr>\n",
       "      <th>998</th>\n",
       "      <td>999</td>\n",
       "      <td>94</td>\n",
       "      <td>You Suck (A Love Story  #2)</td>\n",
       "      <td>328</td>\n",
       "      <td>2007-01-16</td>\n",
       "      <td>331</td>\n",
       "    </tr>\n",
       "    <tr>\n",
       "      <th>999</th>\n",
       "      <td>1000</td>\n",
       "      <td>509</td>\n",
       "      <td>Zen and the Art of Motorcycle Maintenance: An ...</td>\n",
       "      <td>540</td>\n",
       "      <td>2006-04-25</td>\n",
       "      <td>143</td>\n",
       "    </tr>\n",
       "  </tbody>\n",
       "</table>\n",
       "<p>1000 rows × 6 columns</p>\n",
       "</div>"
      ],
      "text/plain": [
       "     book_id  author_id                                              title  \\\n",
       "0          1        546                                       'Salem's Lot   \n",
       "1          2        465                 1 000 Places to See Before You Die   \n",
       "2          3        407  13 Little Blue Envelopes (Little Blue Envelope...   \n",
       "3          4         82  1491: New Revelations of the Americas Before C...   \n",
       "4          5        125                                               1776   \n",
       "..       ...        ...                                                ...   \n",
       "995      996        571           Wyrd Sisters (Discworld  #6; Witches #2)   \n",
       "996      997        454                        Xenocide (Ender's Saga  #3)   \n",
       "997      998        201                                    Year of Wonders   \n",
       "998      999         94                        You Suck (A Love Story  #2)   \n",
       "999     1000        509  Zen and the Art of Motorcycle Maintenance: An ...   \n",
       "\n",
       "     num_pages publication_date  publisher_id  \n",
       "0          594       2005-11-01            93  \n",
       "1          992       2003-05-22           336  \n",
       "2          322       2010-12-21           135  \n",
       "3          541       2006-10-10           309  \n",
       "4          386       2006-07-04           268  \n",
       "..         ...              ...           ...  \n",
       "995        265       2001-02-06           147  \n",
       "996        592       1996-07-15           297  \n",
       "997        358       2002-04-30           212  \n",
       "998        328       2007-01-16           331  \n",
       "999        540       2006-04-25           143  \n",
       "\n",
       "[1000 rows x 6 columns]"
      ]
     },
     "execution_count": 2,
     "metadata": {},
     "output_type": "execute_result"
    }
   ],
   "source": [
    "# чтобы выполнить SQL-запрос, используем Pandas\n",
    "# выведем на экран таблицу books\n",
    "query = '''SELECT * FROM books'''\n",
    "\n",
    "con=engine.connect()\n",
    "\n",
    "pd.io.sql.read_sql(sql=text(query), con = con)"
   ]
  },
  {
   "cell_type": "code",
   "execution_count": 3,
   "metadata": {},
   "outputs": [
    {
     "data": {
      "text/html": [
       "<div>\n",
       "<style scoped>\n",
       "    .dataframe tbody tr th:only-of-type {\n",
       "        vertical-align: middle;\n",
       "    }\n",
       "\n",
       "    .dataframe tbody tr th {\n",
       "        vertical-align: top;\n",
       "    }\n",
       "\n",
       "    .dataframe thead th {\n",
       "        text-align: right;\n",
       "    }\n",
       "</style>\n",
       "<table border=\"1\" class=\"dataframe\">\n",
       "  <thead>\n",
       "    <tr style=\"text-align: right;\">\n",
       "      <th></th>\n",
       "      <th>author_id</th>\n",
       "      <th>author</th>\n",
       "    </tr>\n",
       "  </thead>\n",
       "  <tbody>\n",
       "    <tr>\n",
       "      <th>0</th>\n",
       "      <td>1</td>\n",
       "      <td>A.S. Byatt</td>\n",
       "    </tr>\n",
       "    <tr>\n",
       "      <th>1</th>\n",
       "      <td>2</td>\n",
       "      <td>Aesop/Laura Harris/Laura Gibbs</td>\n",
       "    </tr>\n",
       "    <tr>\n",
       "      <th>2</th>\n",
       "      <td>3</td>\n",
       "      <td>Agatha Christie</td>\n",
       "    </tr>\n",
       "    <tr>\n",
       "      <th>3</th>\n",
       "      <td>4</td>\n",
       "      <td>Alan Brennert</td>\n",
       "    </tr>\n",
       "    <tr>\n",
       "      <th>4</th>\n",
       "      <td>5</td>\n",
       "      <td>Alan Moore/David   Lloyd</td>\n",
       "    </tr>\n",
       "    <tr>\n",
       "      <th>...</th>\n",
       "      <td>...</td>\n",
       "      <td>...</td>\n",
       "    </tr>\n",
       "    <tr>\n",
       "      <th>631</th>\n",
       "      <td>632</td>\n",
       "      <td>William Strunk Jr./E.B. White</td>\n",
       "    </tr>\n",
       "    <tr>\n",
       "      <th>632</th>\n",
       "      <td>633</td>\n",
       "      <td>Zadie Smith</td>\n",
       "    </tr>\n",
       "    <tr>\n",
       "      <th>633</th>\n",
       "      <td>634</td>\n",
       "      <td>Zilpha Keatley Snyder</td>\n",
       "    </tr>\n",
       "    <tr>\n",
       "      <th>634</th>\n",
       "      <td>635</td>\n",
       "      <td>Zora Neale Hurston</td>\n",
       "    </tr>\n",
       "    <tr>\n",
       "      <th>635</th>\n",
       "      <td>636</td>\n",
       "      <td>Åsne Seierstad/Ingrid Christopherson</td>\n",
       "    </tr>\n",
       "  </tbody>\n",
       "</table>\n",
       "<p>636 rows × 2 columns</p>\n",
       "</div>"
      ],
      "text/plain": [
       "     author_id                                author\n",
       "0            1                            A.S. Byatt\n",
       "1            2        Aesop/Laura Harris/Laura Gibbs\n",
       "2            3                       Agatha Christie\n",
       "3            4                         Alan Brennert\n",
       "4            5              Alan Moore/David   Lloyd\n",
       "..         ...                                   ...\n",
       "631        632         William Strunk Jr./E.B. White\n",
       "632        633                           Zadie Smith\n",
       "633        634                 Zilpha Keatley Snyder\n",
       "634        635                    Zora Neale Hurston\n",
       "635        636  Åsne Seierstad/Ingrid Christopherson\n",
       "\n",
       "[636 rows x 2 columns]"
      ]
     },
     "execution_count": 3,
     "metadata": {},
     "output_type": "execute_result"
    }
   ],
   "source": [
    "# выведем на экран таблицу authors\n",
    "query = '''SELECT * FROM authors'''\n",
    "con=engine.connect()\n",
    "pd.io.sql.read_sql(sql=text(query), con = con)"
   ]
  },
  {
   "cell_type": "code",
   "execution_count": 4,
   "metadata": {},
   "outputs": [
    {
     "data": {
      "text/html": [
       "<div>\n",
       "<style scoped>\n",
       "    .dataframe tbody tr th:only-of-type {\n",
       "        vertical-align: middle;\n",
       "    }\n",
       "\n",
       "    .dataframe tbody tr th {\n",
       "        vertical-align: top;\n",
       "    }\n",
       "\n",
       "    .dataframe thead th {\n",
       "        text-align: right;\n",
       "    }\n",
       "</style>\n",
       "<table border=\"1\" class=\"dataframe\">\n",
       "  <thead>\n",
       "    <tr style=\"text-align: right;\">\n",
       "      <th></th>\n",
       "      <th>publisher_id</th>\n",
       "      <th>publisher</th>\n",
       "    </tr>\n",
       "  </thead>\n",
       "  <tbody>\n",
       "    <tr>\n",
       "      <th>0</th>\n",
       "      <td>1</td>\n",
       "      <td>Ace</td>\n",
       "    </tr>\n",
       "    <tr>\n",
       "      <th>1</th>\n",
       "      <td>2</td>\n",
       "      <td>Ace Book</td>\n",
       "    </tr>\n",
       "    <tr>\n",
       "      <th>2</th>\n",
       "      <td>3</td>\n",
       "      <td>Ace Books</td>\n",
       "    </tr>\n",
       "    <tr>\n",
       "      <th>3</th>\n",
       "      <td>4</td>\n",
       "      <td>Ace Hardcover</td>\n",
       "    </tr>\n",
       "    <tr>\n",
       "      <th>4</th>\n",
       "      <td>5</td>\n",
       "      <td>Addison Wesley Publishing Company</td>\n",
       "    </tr>\n",
       "    <tr>\n",
       "      <th>...</th>\n",
       "      <td>...</td>\n",
       "      <td>...</td>\n",
       "    </tr>\n",
       "    <tr>\n",
       "      <th>335</th>\n",
       "      <td>336</td>\n",
       "      <td>Workman Publishing Company</td>\n",
       "    </tr>\n",
       "    <tr>\n",
       "      <th>336</th>\n",
       "      <td>337</td>\n",
       "      <td>Wyatt Book</td>\n",
       "    </tr>\n",
       "    <tr>\n",
       "      <th>337</th>\n",
       "      <td>338</td>\n",
       "      <td>Yale University Press</td>\n",
       "    </tr>\n",
       "    <tr>\n",
       "      <th>338</th>\n",
       "      <td>339</td>\n",
       "      <td>Yearling</td>\n",
       "    </tr>\n",
       "    <tr>\n",
       "      <th>339</th>\n",
       "      <td>340</td>\n",
       "      <td>Yearling Books</td>\n",
       "    </tr>\n",
       "  </tbody>\n",
       "</table>\n",
       "<p>340 rows × 2 columns</p>\n",
       "</div>"
      ],
      "text/plain": [
       "     publisher_id                          publisher\n",
       "0               1                                Ace\n",
       "1               2                           Ace Book\n",
       "2               3                          Ace Books\n",
       "3               4                      Ace Hardcover\n",
       "4               5  Addison Wesley Publishing Company\n",
       "..            ...                                ...\n",
       "335           336         Workman Publishing Company\n",
       "336           337                         Wyatt Book\n",
       "337           338              Yale University Press\n",
       "338           339                           Yearling\n",
       "339           340                     Yearling Books\n",
       "\n",
       "[340 rows x 2 columns]"
      ]
     },
     "execution_count": 4,
     "metadata": {},
     "output_type": "execute_result"
    }
   ],
   "source": [
    "# выведем на экран таблицу publishers\n",
    "query = '''SELECT * FROM publishers'''\n",
    "con=engine.connect()\n",
    "pd.io.sql.read_sql(sql=text(query), con = con)"
   ]
  },
  {
   "cell_type": "code",
   "execution_count": 5,
   "metadata": {},
   "outputs": [
    {
     "data": {
      "text/html": [
       "<div>\n",
       "<style scoped>\n",
       "    .dataframe tbody tr th:only-of-type {\n",
       "        vertical-align: middle;\n",
       "    }\n",
       "\n",
       "    .dataframe tbody tr th {\n",
       "        vertical-align: top;\n",
       "    }\n",
       "\n",
       "    .dataframe thead th {\n",
       "        text-align: right;\n",
       "    }\n",
       "</style>\n",
       "<table border=\"1\" class=\"dataframe\">\n",
       "  <thead>\n",
       "    <tr style=\"text-align: right;\">\n",
       "      <th></th>\n",
       "      <th>rating_id</th>\n",
       "      <th>book_id</th>\n",
       "      <th>username</th>\n",
       "      <th>rating</th>\n",
       "    </tr>\n",
       "  </thead>\n",
       "  <tbody>\n",
       "    <tr>\n",
       "      <th>0</th>\n",
       "      <td>1</td>\n",
       "      <td>1</td>\n",
       "      <td>ryanfranco</td>\n",
       "      <td>4</td>\n",
       "    </tr>\n",
       "    <tr>\n",
       "      <th>1</th>\n",
       "      <td>2</td>\n",
       "      <td>1</td>\n",
       "      <td>grantpatricia</td>\n",
       "      <td>2</td>\n",
       "    </tr>\n",
       "    <tr>\n",
       "      <th>2</th>\n",
       "      <td>3</td>\n",
       "      <td>1</td>\n",
       "      <td>brandtandrea</td>\n",
       "      <td>5</td>\n",
       "    </tr>\n",
       "    <tr>\n",
       "      <th>3</th>\n",
       "      <td>4</td>\n",
       "      <td>2</td>\n",
       "      <td>lorichen</td>\n",
       "      <td>3</td>\n",
       "    </tr>\n",
       "    <tr>\n",
       "      <th>4</th>\n",
       "      <td>5</td>\n",
       "      <td>2</td>\n",
       "      <td>mariokeller</td>\n",
       "      <td>2</td>\n",
       "    </tr>\n",
       "    <tr>\n",
       "      <th>...</th>\n",
       "      <td>...</td>\n",
       "      <td>...</td>\n",
       "      <td>...</td>\n",
       "      <td>...</td>\n",
       "    </tr>\n",
       "    <tr>\n",
       "      <th>6451</th>\n",
       "      <td>6452</td>\n",
       "      <td>1000</td>\n",
       "      <td>carolrodriguez</td>\n",
       "      <td>4</td>\n",
       "    </tr>\n",
       "    <tr>\n",
       "      <th>6452</th>\n",
       "      <td>6453</td>\n",
       "      <td>1000</td>\n",
       "      <td>wendy18</td>\n",
       "      <td>4</td>\n",
       "    </tr>\n",
       "    <tr>\n",
       "      <th>6453</th>\n",
       "      <td>6454</td>\n",
       "      <td>1000</td>\n",
       "      <td>jarvispaul</td>\n",
       "      <td>5</td>\n",
       "    </tr>\n",
       "    <tr>\n",
       "      <th>6454</th>\n",
       "      <td>6455</td>\n",
       "      <td>1000</td>\n",
       "      <td>zross</td>\n",
       "      <td>2</td>\n",
       "    </tr>\n",
       "    <tr>\n",
       "      <th>6455</th>\n",
       "      <td>6456</td>\n",
       "      <td>1000</td>\n",
       "      <td>fharris</td>\n",
       "      <td>5</td>\n",
       "    </tr>\n",
       "  </tbody>\n",
       "</table>\n",
       "<p>6456 rows × 4 columns</p>\n",
       "</div>"
      ],
      "text/plain": [
       "      rating_id  book_id        username  rating\n",
       "0             1        1      ryanfranco       4\n",
       "1             2        1   grantpatricia       2\n",
       "2             3        1    brandtandrea       5\n",
       "3             4        2        lorichen       3\n",
       "4             5        2     mariokeller       2\n",
       "...         ...      ...             ...     ...\n",
       "6451       6452     1000  carolrodriguez       4\n",
       "6452       6453     1000         wendy18       4\n",
       "6453       6454     1000      jarvispaul       5\n",
       "6454       6455     1000           zross       2\n",
       "6455       6456     1000         fharris       5\n",
       "\n",
       "[6456 rows x 4 columns]"
      ]
     },
     "execution_count": 5,
     "metadata": {},
     "output_type": "execute_result"
    }
   ],
   "source": [
    "# выведем на экран таблицу ratings\n",
    "query = '''SELECT * FROM ratings '''\n",
    "con=engine.connect()\n",
    "pd.io.sql.read_sql(sql=text(query), con = con)"
   ]
  },
  {
   "cell_type": "code",
   "execution_count": 6,
   "metadata": {},
   "outputs": [
    {
     "data": {
      "text/html": [
       "<div>\n",
       "<style scoped>\n",
       "    .dataframe tbody tr th:only-of-type {\n",
       "        vertical-align: middle;\n",
       "    }\n",
       "\n",
       "    .dataframe tbody tr th {\n",
       "        vertical-align: top;\n",
       "    }\n",
       "\n",
       "    .dataframe thead th {\n",
       "        text-align: right;\n",
       "    }\n",
       "</style>\n",
       "<table border=\"1\" class=\"dataframe\">\n",
       "  <thead>\n",
       "    <tr style=\"text-align: right;\">\n",
       "      <th></th>\n",
       "      <th>review_id</th>\n",
       "      <th>book_id</th>\n",
       "      <th>username</th>\n",
       "      <th>text</th>\n",
       "    </tr>\n",
       "  </thead>\n",
       "  <tbody>\n",
       "    <tr>\n",
       "      <th>0</th>\n",
       "      <td>1</td>\n",
       "      <td>1</td>\n",
       "      <td>brandtandrea</td>\n",
       "      <td>Mention society tell send professor analysis. ...</td>\n",
       "    </tr>\n",
       "    <tr>\n",
       "      <th>1</th>\n",
       "      <td>2</td>\n",
       "      <td>1</td>\n",
       "      <td>ryanfranco</td>\n",
       "      <td>Foot glass pretty audience hit themselves. Amo...</td>\n",
       "    </tr>\n",
       "    <tr>\n",
       "      <th>2</th>\n",
       "      <td>3</td>\n",
       "      <td>2</td>\n",
       "      <td>lorichen</td>\n",
       "      <td>Listen treat keep worry. Miss husband tax but ...</td>\n",
       "    </tr>\n",
       "    <tr>\n",
       "      <th>3</th>\n",
       "      <td>4</td>\n",
       "      <td>3</td>\n",
       "      <td>johnsonamanda</td>\n",
       "      <td>Finally month interesting blue could nature cu...</td>\n",
       "    </tr>\n",
       "    <tr>\n",
       "      <th>4</th>\n",
       "      <td>5</td>\n",
       "      <td>3</td>\n",
       "      <td>scotttamara</td>\n",
       "      <td>Nation purpose heavy give wait song will. List...</td>\n",
       "    </tr>\n",
       "    <tr>\n",
       "      <th>...</th>\n",
       "      <td>...</td>\n",
       "      <td>...</td>\n",
       "      <td>...</td>\n",
       "      <td>...</td>\n",
       "    </tr>\n",
       "    <tr>\n",
       "      <th>2788</th>\n",
       "      <td>2789</td>\n",
       "      <td>999</td>\n",
       "      <td>martinadam</td>\n",
       "      <td>Later hospital turn easy community. Fact same ...</td>\n",
       "    </tr>\n",
       "    <tr>\n",
       "      <th>2789</th>\n",
       "      <td>2790</td>\n",
       "      <td>1000</td>\n",
       "      <td>wknight</td>\n",
       "      <td>Change lose answer close pressure. Spend so now.</td>\n",
       "    </tr>\n",
       "    <tr>\n",
       "      <th>2790</th>\n",
       "      <td>2791</td>\n",
       "      <td>1000</td>\n",
       "      <td>carolrodriguez</td>\n",
       "      <td>Authority go who television entire hair guy po...</td>\n",
       "    </tr>\n",
       "    <tr>\n",
       "      <th>2791</th>\n",
       "      <td>2792</td>\n",
       "      <td>1000</td>\n",
       "      <td>wendy18</td>\n",
       "      <td>Or western offer wonder ask. More hear phone f...</td>\n",
       "    </tr>\n",
       "    <tr>\n",
       "      <th>2792</th>\n",
       "      <td>2793</td>\n",
       "      <td>1000</td>\n",
       "      <td>jarvispaul</td>\n",
       "      <td>Republican staff bit eat material measure plan...</td>\n",
       "    </tr>\n",
       "  </tbody>\n",
       "</table>\n",
       "<p>2793 rows × 4 columns</p>\n",
       "</div>"
      ],
      "text/plain": [
       "      review_id  book_id        username  \\\n",
       "0             1        1    brandtandrea   \n",
       "1             2        1      ryanfranco   \n",
       "2             3        2        lorichen   \n",
       "3             4        3   johnsonamanda   \n",
       "4             5        3     scotttamara   \n",
       "...         ...      ...             ...   \n",
       "2788       2789      999      martinadam   \n",
       "2789       2790     1000         wknight   \n",
       "2790       2791     1000  carolrodriguez   \n",
       "2791       2792     1000         wendy18   \n",
       "2792       2793     1000      jarvispaul   \n",
       "\n",
       "                                                   text  \n",
       "0     Mention society tell send professor analysis. ...  \n",
       "1     Foot glass pretty audience hit themselves. Amo...  \n",
       "2     Listen treat keep worry. Miss husband tax but ...  \n",
       "3     Finally month interesting blue could nature cu...  \n",
       "4     Nation purpose heavy give wait song will. List...  \n",
       "...                                                 ...  \n",
       "2788  Later hospital turn easy community. Fact same ...  \n",
       "2789   Change lose answer close pressure. Spend so now.  \n",
       "2790  Authority go who television entire hair guy po...  \n",
       "2791  Or western offer wonder ask. More hear phone f...  \n",
       "2792  Republican staff bit eat material measure plan...  \n",
       "\n",
       "[2793 rows x 4 columns]"
      ]
     },
     "execution_count": 6,
     "metadata": {},
     "output_type": "execute_result"
    }
   ],
   "source": [
    "# выведем на экран таблицу reviews\n",
    "query = '''SELECT * FROM reviews'''\n",
    "con=engine.connect()\n",
    "pd.io.sql.read_sql(sql=text(query), con = con)"
   ]
  },
  {
   "cell_type": "markdown",
   "metadata": {},
   "source": [
    "## Выполнение запросов"
   ]
  },
  {
   "cell_type": "markdown",
   "metadata": {},
   "source": [
    "### Посчитайте, сколько книг вышло после 1 января 2000 года"
   ]
  },
  {
   "cell_type": "code",
   "execution_count": 7,
   "metadata": {},
   "outputs": [
    {
     "data": {
      "text/html": [
       "<div>\n",
       "<style scoped>\n",
       "    .dataframe tbody tr th:only-of-type {\n",
       "        vertical-align: middle;\n",
       "    }\n",
       "\n",
       "    .dataframe tbody tr th {\n",
       "        vertical-align: top;\n",
       "    }\n",
       "\n",
       "    .dataframe thead th {\n",
       "        text-align: right;\n",
       "    }\n",
       "</style>\n",
       "<table border=\"1\" class=\"dataframe\">\n",
       "  <thead>\n",
       "    <tr style=\"text-align: right;\">\n",
       "      <th></th>\n",
       "      <th>books_cnt</th>\n",
       "    </tr>\n",
       "  </thead>\n",
       "  <tbody>\n",
       "    <tr>\n",
       "      <th>0</th>\n",
       "      <td>819</td>\n",
       "    </tr>\n",
       "  </tbody>\n",
       "</table>\n",
       "</div>"
      ],
      "text/plain": [
       "   books_cnt\n",
       "0        819"
      ]
     },
     "execution_count": 7,
     "metadata": {},
     "output_type": "execute_result"
    }
   ],
   "source": [
    "query = '''SELECT COUNT(book_id) AS books_cnt\n",
    "            FROM books \n",
    "            WHERE publication_date > '2000-01-01' '''\n",
    "con=engine.connect()\n",
    "pd.io.sql.read_sql(sql=text(query), con = con)"
   ]
  },
  {
   "cell_type": "markdown",
   "metadata": {},
   "source": [
    "**Вывод: После 1 января 2020 года (не включая эту дату) вышло 819 книг.**"
   ]
  },
  {
   "cell_type": "markdown",
   "metadata": {},
   "source": [
    "### Для каждой книги посчитайте количество обзоров и среднюю оценку;"
   ]
  },
  {
   "cell_type": "markdown",
   "metadata": {},
   "source": [
    "*Будем использовать тип слиятния LEFT OUTER JOIN, т.к. нам нужно, чтобы в результат слияния вошли все записи из левой таблицы (books)*"
   ]
  },
  {
   "cell_type": "code",
   "execution_count": 12,
   "metadata": {
    "scrolled": false
   },
   "outputs": [
    {
     "data": {
      "text/html": [
       "<div>\n",
       "<style scoped>\n",
       "    .dataframe tbody tr th:only-of-type {\n",
       "        vertical-align: middle;\n",
       "    }\n",
       "\n",
       "    .dataframe tbody tr th {\n",
       "        vertical-align: top;\n",
       "    }\n",
       "\n",
       "    .dataframe thead th {\n",
       "        text-align: right;\n",
       "    }\n",
       "</style>\n",
       "<table border=\"1\" class=\"dataframe\">\n",
       "  <thead>\n",
       "    <tr style=\"text-align: right;\">\n",
       "      <th></th>\n",
       "      <th>book_id</th>\n",
       "      <th>title</th>\n",
       "      <th>review_cnt</th>\n",
       "      <th>avg_rating</th>\n",
       "    </tr>\n",
       "  </thead>\n",
       "  <tbody>\n",
       "    <tr>\n",
       "      <th>0</th>\n",
       "      <td>169</td>\n",
       "      <td>Crucial Conversations: Tools for Talking When ...</td>\n",
       "      <td>2</td>\n",
       "      <td>5.0</td>\n",
       "    </tr>\n",
       "    <tr>\n",
       "      <th>1</th>\n",
       "      <td>901</td>\n",
       "      <td>The Walking Dead  Book One (The Walking Dead #...</td>\n",
       "      <td>2</td>\n",
       "      <td>5.0</td>\n",
       "    </tr>\n",
       "    <tr>\n",
       "      <th>2</th>\n",
       "      <td>17</td>\n",
       "      <td>A Dirty Job (Grim Reaper  #1)</td>\n",
       "      <td>4</td>\n",
       "      <td>5.0</td>\n",
       "    </tr>\n",
       "    <tr>\n",
       "      <th>3</th>\n",
       "      <td>275</td>\n",
       "      <td>Geek Love</td>\n",
       "      <td>2</td>\n",
       "      <td>5.0</td>\n",
       "    </tr>\n",
       "    <tr>\n",
       "      <th>4</th>\n",
       "      <td>321</td>\n",
       "      <td>Homage to Catalonia</td>\n",
       "      <td>2</td>\n",
       "      <td>5.0</td>\n",
       "    </tr>\n",
       "    <tr>\n",
       "      <th>...</th>\n",
       "      <td>...</td>\n",
       "      <td>...</td>\n",
       "      <td>...</td>\n",
       "      <td>...</td>\n",
       "    </tr>\n",
       "    <tr>\n",
       "      <th>995</th>\n",
       "      <td>772</td>\n",
       "      <td>The Kitchen God's Wife</td>\n",
       "      <td>3</td>\n",
       "      <td>2.3</td>\n",
       "    </tr>\n",
       "    <tr>\n",
       "      <th>996</th>\n",
       "      <td>316</td>\n",
       "      <td>His Excellency: George Washington</td>\n",
       "      <td>2</td>\n",
       "      <td>2.0</td>\n",
       "    </tr>\n",
       "    <tr>\n",
       "      <th>997</th>\n",
       "      <td>202</td>\n",
       "      <td>Drowning Ruth</td>\n",
       "      <td>3</td>\n",
       "      <td>2.0</td>\n",
       "    </tr>\n",
       "    <tr>\n",
       "      <th>998</th>\n",
       "      <td>371</td>\n",
       "      <td>Junky</td>\n",
       "      <td>2</td>\n",
       "      <td>2.0</td>\n",
       "    </tr>\n",
       "    <tr>\n",
       "      <th>999</th>\n",
       "      <td>303</td>\n",
       "      <td>Harvesting the Heart</td>\n",
       "      <td>2</td>\n",
       "      <td>1.5</td>\n",
       "    </tr>\n",
       "  </tbody>\n",
       "</table>\n",
       "<p>1000 rows × 4 columns</p>\n",
       "</div>"
      ],
      "text/plain": [
       "     book_id                                              title  review_cnt  \\\n",
       "0        169  Crucial Conversations: Tools for Talking When ...           2   \n",
       "1        901  The Walking Dead  Book One (The Walking Dead #...           2   \n",
       "2         17                      A Dirty Job (Grim Reaper  #1)           4   \n",
       "3        275                                          Geek Love           2   \n",
       "4        321                                Homage to Catalonia           2   \n",
       "..       ...                                                ...         ...   \n",
       "995      772                             The Kitchen God's Wife           3   \n",
       "996      316                  His Excellency: George Washington           2   \n",
       "997      202                                      Drowning Ruth           3   \n",
       "998      371                                              Junky           2   \n",
       "999      303                               Harvesting the Heart           2   \n",
       "\n",
       "     avg_rating  \n",
       "0           5.0  \n",
       "1           5.0  \n",
       "2           5.0  \n",
       "3           5.0  \n",
       "4           5.0  \n",
       "..          ...  \n",
       "995         2.3  \n",
       "996         2.0  \n",
       "997         2.0  \n",
       "998         2.0  \n",
       "999         1.5  \n",
       "\n",
       "[1000 rows x 4 columns]"
      ]
     },
     "execution_count": 12,
     "metadata": {},
     "output_type": "execute_result"
    }
   ],
   "source": [
    "query = '''SELECT b.book_id,\n",
    "            b.title,\n",
    "            COUNT(DISTINCT review_id) AS review_cnt,\n",
    "            ROUND(AVG(rating),1) AS avg_rating\n",
    "\n",
    "FROM books AS b\n",
    "LEFT OUTER JOIN reviews AS rw ON b.book_id = rw.book_id \n",
    "LEFT OUTER JOIN ratings AS rt ON rt.book_id = b.book_id\n",
    "GROUP by b.book_id\n",
    "ORDER by avg_rating DESC '''\n",
    "con=engine.connect()\n",
    "pd.io.sql.read_sql(sql=text(query), con = con)"
   ]
  },
  {
   "cell_type": "markdown",
   "metadata": {},
   "source": [
    "<div class=\"alert alert-info\"> <b>Комментарий студента:</b> Новый вывод:  для заданной базы с 1000 книг имеем средний рейтинг от 5.0 до 1.5 и количество обзоров от 7 (при задании сортировки ORDER by review_cnt DESC) до 0.</div>    "
   ]
  },
  {
   "cell_type": "markdown",
   "metadata": {},
   "source": [
    "### Определите издательство, которое выпустило наибольшее число книг толще 50 страниц — так вы исключите из анализа брошюры;"
   ]
  },
  {
   "cell_type": "code",
   "execution_count": 13,
   "metadata": {},
   "outputs": [
    {
     "data": {
      "text/html": [
       "<div>\n",
       "<style scoped>\n",
       "    .dataframe tbody tr th:only-of-type {\n",
       "        vertical-align: middle;\n",
       "    }\n",
       "\n",
       "    .dataframe tbody tr th {\n",
       "        vertical-align: top;\n",
       "    }\n",
       "\n",
       "    .dataframe thead th {\n",
       "        text-align: right;\n",
       "    }\n",
       "</style>\n",
       "<table border=\"1\" class=\"dataframe\">\n",
       "  <thead>\n",
       "    <tr style=\"text-align: right;\">\n",
       "      <th></th>\n",
       "      <th>publisher</th>\n",
       "      <th>books_cnt</th>\n",
       "    </tr>\n",
       "  </thead>\n",
       "  <tbody>\n",
       "    <tr>\n",
       "      <th>0</th>\n",
       "      <td>Penguin Books</td>\n",
       "      <td>42</td>\n",
       "    </tr>\n",
       "  </tbody>\n",
       "</table>\n",
       "</div>"
      ],
      "text/plain": [
       "       publisher  books_cnt\n",
       "0  Penguin Books         42"
      ]
     },
     "execution_count": 13,
     "metadata": {},
     "output_type": "execute_result"
    }
   ],
   "source": [
    "query = '''SELECT publisher,\n",
    "            COUNT(book_id) AS books_cnt\n",
    "FROM books AS b\n",
    "LEFT OUTER JOIN publishers AS p ON b.publisher_id = p.publisher_id \n",
    "WHERE num_pages > 50 \n",
    "GROUP by publisher\n",
    "ORDER by books_cnt DESC\n",
    "LIMIT 1'''\n",
    "con=engine.connect()\n",
    "pd.io.sql.read_sql(sql=text(query), con = con)"
   ]
  },
  {
   "cell_type": "markdown",
   "metadata": {},
   "source": [
    "**Вывод: Больше всего книг толще 50 страниц выпустило издательство Penguin Books - 42 книги**"
   ]
  },
  {
   "cell_type": "markdown",
   "metadata": {},
   "source": [
    "### Определите автора с самой высокой средней оценкой книг — учитывайте только книги с 50 и более оценками;"
   ]
  },
  {
   "cell_type": "code",
   "execution_count": 15,
   "metadata": {},
   "outputs": [
    {
     "data": {
      "text/html": [
       "<div>\n",
       "<style scoped>\n",
       "    .dataframe tbody tr th:only-of-type {\n",
       "        vertical-align: middle;\n",
       "    }\n",
       "\n",
       "    .dataframe tbody tr th {\n",
       "        vertical-align: top;\n",
       "    }\n",
       "\n",
       "    .dataframe thead th {\n",
       "        text-align: right;\n",
       "    }\n",
       "</style>\n",
       "<table border=\"1\" class=\"dataframe\">\n",
       "  <thead>\n",
       "    <tr style=\"text-align: right;\">\n",
       "      <th></th>\n",
       "      <th>author</th>\n",
       "      <th>avg_rating</th>\n",
       "    </tr>\n",
       "  </thead>\n",
       "  <tbody>\n",
       "    <tr>\n",
       "      <th>0</th>\n",
       "      <td>J.K. Rowling/Mary GrandPré</td>\n",
       "      <td>4.3</td>\n",
       "    </tr>\n",
       "  </tbody>\n",
       "</table>\n",
       "</div>"
      ],
      "text/plain": [
       "                       author  avg_rating\n",
       "0  J.K. Rowling/Mary GrandPré         4.3"
      ]
     },
     "execution_count": 15,
     "metadata": {},
     "output_type": "execute_result"
    }
   ],
   "source": [
    "query = '''SELECT a.author,\n",
    "          ROUND(AVG(rating),1) AS avg_rating\n",
    "          \n",
    "FROM books AS b\n",
    "JOIN authors AS a ON a.author_id = b.author_id \n",
    "JOIN ratings AS rt ON rt.book_id = b.book_id\n",
    "GROUP BY a.author\n",
    "HAVING COUNT(rating_id) >50\n",
    "ORDER BY avg_rating DESC\n",
    "LIMIT 1'''\n",
    "con=engine.connect()\n",
    "pd.io.sql.read_sql(sql=text(query), con = con)"
   ]
  },
  {
   "cell_type": "markdown",
   "metadata": {},
   "source": [
    "<div class=\"alert alert-info\"> <b>Комментарий студента:</b> Новый вывод:  Автор с самой высокой средней оценкой книг при условии что количество оценок больше 50 - J.K. Rowling/Mary GrandPre. </div>    "
   ]
  },
  {
   "cell_type": "markdown",
   "metadata": {},
   "source": [
    "###  Посчитайте среднее количество обзоров от пользователей, которые поставили больше 48 оценок."
   ]
  },
  {
   "cell_type": "code",
   "execution_count": 17,
   "metadata": {
    "scrolled": false
   },
   "outputs": [
    {
     "data": {
      "text/html": [
       "<div>\n",
       "<style scoped>\n",
       "    .dataframe tbody tr th:only-of-type {\n",
       "        vertical-align: middle;\n",
       "    }\n",
       "\n",
       "    .dataframe tbody tr th {\n",
       "        vertical-align: top;\n",
       "    }\n",
       "\n",
       "    .dataframe thead th {\n",
       "        text-align: right;\n",
       "    }\n",
       "</style>\n",
       "<table border=\"1\" class=\"dataframe\">\n",
       "  <thead>\n",
       "    <tr style=\"text-align: right;\">\n",
       "      <th></th>\n",
       "      <th>username</th>\n",
       "      <th>rating_cnt</th>\n",
       "    </tr>\n",
       "  </thead>\n",
       "  <tbody>\n",
       "    <tr>\n",
       "      <th>0</th>\n",
       "      <td>paul88</td>\n",
       "      <td>56</td>\n",
       "    </tr>\n",
       "    <tr>\n",
       "      <th>1</th>\n",
       "      <td>martinadam</td>\n",
       "      <td>56</td>\n",
       "    </tr>\n",
       "    <tr>\n",
       "      <th>2</th>\n",
       "      <td>sfitzgerald</td>\n",
       "      <td>55</td>\n",
       "    </tr>\n",
       "    <tr>\n",
       "      <th>3</th>\n",
       "      <td>richard89</td>\n",
       "      <td>55</td>\n",
       "    </tr>\n",
       "    <tr>\n",
       "      <th>4</th>\n",
       "      <td>jennifermiller</td>\n",
       "      <td>53</td>\n",
       "    </tr>\n",
       "    <tr>\n",
       "      <th>5</th>\n",
       "      <td>xdavis</td>\n",
       "      <td>51</td>\n",
       "    </tr>\n",
       "    <tr>\n",
       "      <th>6</th>\n",
       "      <td>shermannatalie</td>\n",
       "      <td>50</td>\n",
       "    </tr>\n",
       "    <tr>\n",
       "      <th>7</th>\n",
       "      <td>lesliegibbs</td>\n",
       "      <td>50</td>\n",
       "    </tr>\n",
       "    <tr>\n",
       "      <th>8</th>\n",
       "      <td>vanessagardner</td>\n",
       "      <td>50</td>\n",
       "    </tr>\n",
       "    <tr>\n",
       "      <th>9</th>\n",
       "      <td>vcarter</td>\n",
       "      <td>49</td>\n",
       "    </tr>\n",
       "    <tr>\n",
       "      <th>10</th>\n",
       "      <td>walter49</td>\n",
       "      <td>49</td>\n",
       "    </tr>\n",
       "    <tr>\n",
       "      <th>11</th>\n",
       "      <td>andreaeaton</td>\n",
       "      <td>49</td>\n",
       "    </tr>\n",
       "    <tr>\n",
       "      <th>12</th>\n",
       "      <td>susan85</td>\n",
       "      <td>49</td>\n",
       "    </tr>\n",
       "  </tbody>\n",
       "</table>\n",
       "</div>"
      ],
      "text/plain": [
       "          username  rating_cnt\n",
       "0           paul88          56\n",
       "1       martinadam          56\n",
       "2      sfitzgerald          55\n",
       "3        richard89          55\n",
       "4   jennifermiller          53\n",
       "5           xdavis          51\n",
       "6   shermannatalie          50\n",
       "7      lesliegibbs          50\n",
       "8   vanessagardner          50\n",
       "9          vcarter          49\n",
       "10        walter49          49\n",
       "11     andreaeaton          49\n",
       "12         susan85          49"
      ]
     },
     "execution_count": 17,
     "metadata": {},
     "output_type": "execute_result"
    }
   ],
   "source": [
    "# выведем пользователей, которые поставили больше 48 оценок\n",
    "query = '''SELECT username,\n",
    "        COUNT(rating_id) as rating_cnt\n",
    "FROM ratings \n",
    "GROUP BY username\n",
    "HAVING COUNT(rating_id) > 48\n",
    "ORDER BY rating_cnt DESC'''\n",
    "con=engine.connect()\n",
    "pd.io.sql.read_sql(sql=text(query), con = con)"
   ]
  },
  {
   "cell_type": "code",
   "execution_count": 18,
   "metadata": {
    "scrolled": false
   },
   "outputs": [
    {
     "data": {
      "text/html": [
       "<div>\n",
       "<style scoped>\n",
       "    .dataframe tbody tr th:only-of-type {\n",
       "        vertical-align: middle;\n",
       "    }\n",
       "\n",
       "    .dataframe tbody tr th {\n",
       "        vertical-align: top;\n",
       "    }\n",
       "\n",
       "    .dataframe thead th {\n",
       "        text-align: right;\n",
       "    }\n",
       "</style>\n",
       "<table border=\"1\" class=\"dataframe\">\n",
       "  <thead>\n",
       "    <tr style=\"text-align: right;\">\n",
       "      <th></th>\n",
       "      <th>username</th>\n",
       "      <th>review_cnt</th>\n",
       "    </tr>\n",
       "  </thead>\n",
       "  <tbody>\n",
       "    <tr>\n",
       "      <th>0</th>\n",
       "      <td>walter49</td>\n",
       "      <td>23</td>\n",
       "    </tr>\n",
       "    <tr>\n",
       "      <th>1</th>\n",
       "      <td>sfitzgerald</td>\n",
       "      <td>28</td>\n",
       "    </tr>\n",
       "    <tr>\n",
       "      <th>2</th>\n",
       "      <td>jennifermiller</td>\n",
       "      <td>25</td>\n",
       "    </tr>\n",
       "    <tr>\n",
       "      <th>3</th>\n",
       "      <td>andreaeaton</td>\n",
       "      <td>22</td>\n",
       "    </tr>\n",
       "    <tr>\n",
       "      <th>4</th>\n",
       "      <td>xdavis</td>\n",
       "      <td>18</td>\n",
       "    </tr>\n",
       "    <tr>\n",
       "      <th>5</th>\n",
       "      <td>vcarter</td>\n",
       "      <td>20</td>\n",
       "    </tr>\n",
       "    <tr>\n",
       "      <th>6</th>\n",
       "      <td>paul88</td>\n",
       "      <td>22</td>\n",
       "    </tr>\n",
       "    <tr>\n",
       "      <th>7</th>\n",
       "      <td>lesliegibbs</td>\n",
       "      <td>26</td>\n",
       "    </tr>\n",
       "    <tr>\n",
       "      <th>8</th>\n",
       "      <td>susan85</td>\n",
       "      <td>29</td>\n",
       "    </tr>\n",
       "    <tr>\n",
       "      <th>9</th>\n",
       "      <td>martinadam</td>\n",
       "      <td>27</td>\n",
       "    </tr>\n",
       "    <tr>\n",
       "      <th>10</th>\n",
       "      <td>vanessagardner</td>\n",
       "      <td>22</td>\n",
       "    </tr>\n",
       "    <tr>\n",
       "      <th>11</th>\n",
       "      <td>richard89</td>\n",
       "      <td>26</td>\n",
       "    </tr>\n",
       "    <tr>\n",
       "      <th>12</th>\n",
       "      <td>shermannatalie</td>\n",
       "      <td>24</td>\n",
       "    </tr>\n",
       "  </tbody>\n",
       "</table>\n",
       "</div>"
      ],
      "text/plain": [
       "          username  review_cnt\n",
       "0         walter49          23\n",
       "1      sfitzgerald          28\n",
       "2   jennifermiller          25\n",
       "3      andreaeaton          22\n",
       "4           xdavis          18\n",
       "5          vcarter          20\n",
       "6           paul88          22\n",
       "7      lesliegibbs          26\n",
       "8          susan85          29\n",
       "9       martinadam          27\n",
       "10  vanessagardner          22\n",
       "11       richard89          26\n",
       "12  shermannatalie          24"
      ]
     },
     "execution_count": 18,
     "metadata": {},
     "output_type": "execute_result"
    }
   ],
   "source": [
    "# посчитаем количество обзоров от пользователей, которые поставили больше 48 оценок\n",
    "query = '''WITH \n",
    "        i as (SELECT username,\n",
    "        COUNT(rating_id) as rating_cnt\n",
    "FROM ratings \n",
    "GROUP BY username\n",
    "HAVING COUNT(rating_id) > 48\n",
    "ORDER BY rating_cnt DESC)\n",
    "\n",
    "SELECT r.username,\n",
    "        COUNT(review_id) AS review_cnt\n",
    "FROM i \n",
    "INNER JOIN reviews as r on i.username=r.username\n",
    "GROUP BY r.username'''\n",
    "con=engine.connect()\n",
    "pd.io.sql.read_sql(sql=text(query), con = con)"
   ]
  },
  {
   "cell_type": "code",
   "execution_count": 19,
   "metadata": {
    "scrolled": true
   },
   "outputs": [
    {
     "data": {
      "text/html": [
       "<div>\n",
       "<style scoped>\n",
       "    .dataframe tbody tr th:only-of-type {\n",
       "        vertical-align: middle;\n",
       "    }\n",
       "\n",
       "    .dataframe tbody tr th {\n",
       "        vertical-align: top;\n",
       "    }\n",
       "\n",
       "    .dataframe thead th {\n",
       "        text-align: right;\n",
       "    }\n",
       "</style>\n",
       "<table border=\"1\" class=\"dataframe\">\n",
       "  <thead>\n",
       "    <tr style=\"text-align: right;\">\n",
       "      <th></th>\n",
       "      <th>avg</th>\n",
       "    </tr>\n",
       "  </thead>\n",
       "  <tbody>\n",
       "    <tr>\n",
       "      <th>0</th>\n",
       "      <td>24.0</td>\n",
       "    </tr>\n",
       "  </tbody>\n",
       "</table>\n",
       "</div>"
      ],
      "text/plain": [
       "    avg\n",
       "0  24.0"
      ]
     },
     "execution_count": 19,
     "metadata": {},
     "output_type": "execute_result"
    }
   ],
   "source": [
    "#посчитаем среднее количество обзоров по пользователям из таблицы выше\n",
    "query = '''WITH j AS(\n",
    "WITH i AS (SELECT username,\n",
    "        COUNT(rating_id) as rating_cnt\n",
    "FROM ratings \n",
    "GROUP BY username\n",
    "HAVING COUNT(rating_id) > 48\n",
    "ORDER BY rating_cnt DESC)\n",
    "\n",
    "SELECT r.username,\n",
    "        COUNT(review_id) AS review_cnt\n",
    "FROM i \n",
    "INNER JOIN reviews as r on i.username=r.username\n",
    "GROUP BY r.username)\n",
    "\n",
    "SELECT AVG (review_cnt)\n",
    "FROM j'''\n",
    "con=engine.connect()\n",
    "pd.io.sql.read_sql(sql=text(query), con = con)"
   ]
  },
  {
   "cell_type": "markdown",
   "metadata": {},
   "source": [
    "<div class=\"alert alert-info\"> <b>Комментарий студента:</b> Новый вывод: среднее количество обзоров от пользователей, которые поставили больше 48 оценок, равно 24.</div> "
   ]
  },
  {
   "cell_type": "markdown",
   "metadata": {},
   "source": [
    "## Общие выводы по проекту"
   ]
  },
  {
   "cell_type": "markdown",
   "metadata": {},
   "source": [
    "1. Посчитайте, сколько книг вышло после 1 января 2000 года.\n",
    "\n",
    "*После 1 января 2020 года (не включая эту дату) вышло 819 книг.*\n",
    "\n",
    "2. Для каждой книги посчитайте количество обзоров и среднюю оценку.\n",
    "\n",
    "*Для заданной базы с 1000 книг имеем средний рейтинг от 5.0 до 1.5 и количество обзоров от 7 до  0.*\n",
    "\n",
    "3. Определите издательство, которое выпустило наибольшее число книг толще 50 страниц — так вы исключите из анализа брошюры.\n",
    "\n",
    "*Больше всего книг толще 50 страниц выпустило издательство Penguin Books - 42 книги.*\n",
    "\n",
    "4. Определите автора с самой высокой средней оценкой книг — учитывайте только книги с 50 и более оценками.\n",
    "\n",
    "*Новый вывод:  Автор с самой высокой средней оценкой книг при условии что количество оценок больше 50 - J.K. Rowling/Mary GrandPre.*\n",
    "\n",
    "5. Посчитайте среднее количество обзоров от пользователей, которые поставили больше 48 оценок.\n",
    "\n",
    "*Cреднее количество обзоров от пользователей, которые поставили больше 48 оценок, равно 24.*"
   ]
  }
 ],
 "metadata": {
  "ExecuteTimeLog": [
   {
    "duration": 15549,
    "start_time": "2023-07-29T08:11:57.958Z"
   },
   {
    "duration": 249,
    "start_time": "2023-07-29T08:12:13.509Z"
   },
   {
    "duration": 4,
    "start_time": "2023-07-29T08:12:56.573Z"
   },
   {
    "duration": 271,
    "start_time": "2023-07-29T08:12:56.579Z"
   },
   {
    "duration": 145,
    "start_time": "2023-07-29T08:12:56.852Z"
   },
   {
    "duration": 54,
    "start_time": "2023-07-29T08:12:56.999Z"
   },
   {
    "duration": 96,
    "start_time": "2023-07-29T08:12:57.056Z"
   },
   {
    "duration": 80,
    "start_time": "2023-07-29T08:12:57.154Z"
   },
   {
    "duration": 5,
    "start_time": "2023-07-29T08:15:16.013Z"
   },
   {
    "duration": 275,
    "start_time": "2023-07-29T08:15:16.022Z"
   },
   {
    "duration": 144,
    "start_time": "2023-07-29T08:15:16.299Z"
   },
   {
    "duration": 56,
    "start_time": "2023-07-29T08:15:16.446Z"
   },
   {
    "duration": 111,
    "start_time": "2023-07-29T08:15:16.504Z"
   },
   {
    "duration": 84,
    "start_time": "2023-07-29T08:15:16.617Z"
   },
   {
    "duration": 52,
    "start_time": "2023-07-29T08:15:16.703Z"
   },
   {
    "duration": 73,
    "start_time": "2023-07-29T08:15:16.757Z"
   },
   {
    "duration": 54,
    "start_time": "2023-07-29T08:15:16.832Z"
   },
   {
    "duration": 60,
    "start_time": "2023-07-29T08:15:16.888Z"
   },
   {
    "duration": 62,
    "start_time": "2023-07-29T08:15:16.951Z"
   },
   {
    "duration": 6,
    "start_time": "2023-07-29T08:21:20.462Z"
   },
   {
    "duration": 311,
    "start_time": "2023-07-29T08:21:20.470Z"
   },
   {
    "duration": 142,
    "start_time": "2023-07-29T08:21:20.783Z"
   },
   {
    "duration": 55,
    "start_time": "2023-07-29T08:21:20.927Z"
   },
   {
    "duration": 147,
    "start_time": "2023-07-29T08:21:20.985Z"
   },
   {
    "duration": 93,
    "start_time": "2023-07-29T08:21:21.134Z"
   },
   {
    "duration": 56,
    "start_time": "2023-07-29T08:21:21.230Z"
   },
   {
    "duration": 71,
    "start_time": "2023-07-29T08:21:21.288Z"
   },
   {
    "duration": 54,
    "start_time": "2023-07-29T08:21:21.361Z"
   },
   {
    "duration": 59,
    "start_time": "2023-07-29T08:21:21.417Z"
   },
   {
    "duration": 64,
    "start_time": "2023-07-29T08:21:21.478Z"
   },
   {
    "duration": 12260,
    "start_time": "2023-07-29T09:03:13.786Z"
   },
   {
    "duration": 280,
    "start_time": "2023-07-29T09:03:26.048Z"
   },
   {
    "duration": 142,
    "start_time": "2023-07-29T09:03:26.329Z"
   },
   {
    "duration": 54,
    "start_time": "2023-07-29T09:03:26.473Z"
   },
   {
    "duration": 99,
    "start_time": "2023-07-29T09:03:26.529Z"
   },
   {
    "duration": 87,
    "start_time": "2023-07-29T09:03:26.630Z"
   },
   {
    "duration": 54,
    "start_time": "2023-07-29T09:03:26.720Z"
   },
   {
    "duration": 75,
    "start_time": "2023-07-29T09:03:26.776Z"
   },
   {
    "duration": 56,
    "start_time": "2023-07-29T09:03:26.853Z"
   },
   {
    "duration": 59,
    "start_time": "2023-07-29T09:03:26.911Z"
   },
   {
    "duration": 63,
    "start_time": "2023-07-29T09:03:26.972Z"
   },
   {
    "duration": 10891,
    "start_time": "2023-07-29T13:07:30.615Z"
   },
   {
    "duration": 310,
    "start_time": "2023-07-29T13:07:41.509Z"
   },
   {
    "duration": 148,
    "start_time": "2023-07-29T13:07:41.820Z"
   },
   {
    "duration": 64,
    "start_time": "2023-07-29T13:07:41.970Z"
   },
   {
    "duration": 103,
    "start_time": "2023-07-29T13:07:42.036Z"
   },
   {
    "duration": 105,
    "start_time": "2023-07-29T13:07:42.141Z"
   },
   {
    "duration": 66,
    "start_time": "2023-07-29T13:07:42.247Z"
   },
   {
    "duration": 78,
    "start_time": "2023-07-29T13:07:42.315Z"
   },
   {
    "duration": 74,
    "start_time": "2023-07-29T13:07:42.395Z"
   },
   {
    "duration": 57,
    "start_time": "2023-07-29T13:07:42.471Z"
   },
   {
    "duration": 60,
    "start_time": "2023-07-29T13:07:42.530Z"
   },
   {
    "duration": 72,
    "start_time": "2023-07-29T13:07:42.591Z"
   },
   {
    "duration": 4,
    "start_time": "2023-07-29T13:08:12.740Z"
   },
   {
    "duration": 310,
    "start_time": "2023-07-29T13:08:12.750Z"
   },
   {
    "duration": 150,
    "start_time": "2023-07-29T13:08:13.062Z"
   },
   {
    "duration": 57,
    "start_time": "2023-07-29T13:08:13.214Z"
   },
   {
    "duration": 108,
    "start_time": "2023-07-29T13:08:13.273Z"
   },
   {
    "duration": 131,
    "start_time": "2023-07-29T13:08:13.382Z"
   },
   {
    "duration": 55,
    "start_time": "2023-07-29T13:08:13.514Z"
   },
   {
    "duration": 80,
    "start_time": "2023-07-29T13:08:13.571Z"
   },
   {
    "duration": 89,
    "start_time": "2023-07-29T13:08:13.653Z"
   },
   {
    "duration": 56,
    "start_time": "2023-07-29T13:08:13.743Z"
   },
   {
    "duration": 61,
    "start_time": "2023-07-29T13:08:13.800Z"
   },
   {
    "duration": 66,
    "start_time": "2023-07-29T13:08:13.863Z"
   },
   {
    "duration": 4,
    "start_time": "2023-07-29T13:08:30.369Z"
   },
   {
    "duration": 319,
    "start_time": "2023-07-29T13:08:30.375Z"
   },
   {
    "duration": 164,
    "start_time": "2023-07-29T13:08:30.695Z"
   },
   {
    "duration": 59,
    "start_time": "2023-07-29T13:08:30.861Z"
   },
   {
    "duration": 118,
    "start_time": "2023-07-29T13:08:30.923Z"
   },
   {
    "duration": 102,
    "start_time": "2023-07-29T13:08:31.043Z"
   },
   {
    "duration": 58,
    "start_time": "2023-07-29T13:08:31.147Z"
   },
   {
    "duration": 68,
    "start_time": "2023-07-29T13:08:31.213Z"
   },
   {
    "duration": 75,
    "start_time": "2023-07-29T13:08:31.282Z"
   },
   {
    "duration": 61,
    "start_time": "2023-07-29T13:08:31.358Z"
   },
   {
    "duration": 59,
    "start_time": "2023-07-29T13:08:31.421Z"
   },
   {
    "duration": 64,
    "start_time": "2023-07-29T13:08:31.482Z"
   },
   {
    "duration": 143,
    "start_time": "2023-07-29T13:09:14.531Z"
   },
   {
    "duration": 41,
    "start_time": "2023-07-29T13:09:24.825Z"
   },
   {
    "duration": 208,
    "start_time": "2023-07-29T13:09:58.016Z"
   },
   {
    "duration": 97,
    "start_time": "2023-07-29T13:10:18.020Z"
   },
   {
    "duration": 80,
    "start_time": "2023-07-29T13:10:48.139Z"
   },
   {
    "duration": 166,
    "start_time": "2023-07-29T13:11:02.411Z"
   },
   {
    "duration": 68,
    "start_time": "2023-07-29T13:11:14.593Z"
   },
   {
    "duration": 53,
    "start_time": "2023-07-29T13:16:16.537Z"
   },
   {
    "duration": 56,
    "start_time": "2023-07-29T13:16:25.524Z"
   },
   {
    "duration": 66,
    "start_time": "2023-07-29T13:19:04.051Z"
   },
   {
    "duration": 5,
    "start_time": "2023-07-29T13:19:17.752Z"
   },
   {
    "duration": 291,
    "start_time": "2023-07-29T13:19:17.759Z"
   },
   {
    "duration": 148,
    "start_time": "2023-07-29T13:19:18.051Z"
   },
   {
    "duration": 63,
    "start_time": "2023-07-29T13:19:18.200Z"
   },
   {
    "duration": 107,
    "start_time": "2023-07-29T13:19:18.265Z"
   },
   {
    "duration": 87,
    "start_time": "2023-07-29T13:19:18.373Z"
   },
   {
    "duration": 53,
    "start_time": "2023-07-29T13:19:18.461Z"
   },
   {
    "duration": 69,
    "start_time": "2023-07-29T13:19:18.515Z"
   },
   {
    "duration": 59,
    "start_time": "2023-07-29T13:19:18.586Z"
   },
   {
    "duration": 64,
    "start_time": "2023-07-29T13:19:18.646Z"
   },
   {
    "duration": 57,
    "start_time": "2023-07-29T13:19:18.712Z"
   },
   {
    "duration": 59,
    "start_time": "2023-07-29T13:19:18.771Z"
   },
   {
    "duration": 63,
    "start_time": "2023-07-29T13:19:18.833Z"
   },
   {
    "duration": 70,
    "start_time": "2023-07-29T13:19:18.899Z"
   },
   {
    "duration": 78,
    "start_time": "2023-07-29T13:19:38.615Z"
   },
   {
    "duration": 61,
    "start_time": "2023-07-29T13:19:56.826Z"
   },
   {
    "duration": 84,
    "start_time": "2023-07-29T13:21:04.171Z"
   },
   {
    "duration": 91,
    "start_time": "2023-07-29T13:21:13.992Z"
   },
   {
    "duration": 166,
    "start_time": "2023-07-29T13:22:44.176Z"
   },
   {
    "duration": 78,
    "start_time": "2023-07-29T13:22:53.811Z"
   },
   {
    "duration": 513,
    "start_time": "2023-07-29T13:24:17.861Z"
   },
   {
    "duration": 143,
    "start_time": "2023-07-29T13:24:46.772Z"
   },
   {
    "duration": 58,
    "start_time": "2023-07-29T13:25:21.214Z"
   },
   {
    "duration": 55,
    "start_time": "2023-07-29T13:28:48.423Z"
   },
   {
    "duration": 308,
    "start_time": "2023-07-29T13:29:48.031Z"
   },
   {
    "duration": 52,
    "start_time": "2023-07-29T13:29:59.614Z"
   },
   {
    "duration": 68,
    "start_time": "2023-07-29T13:31:19.147Z"
   },
   {
    "duration": 644,
    "start_time": "2023-07-29T13:31:29.433Z"
   },
   {
    "duration": 63,
    "start_time": "2023-07-29T13:34:10.127Z"
   },
   {
    "duration": 58,
    "start_time": "2023-07-29T13:34:19.927Z"
   },
   {
    "duration": 78,
    "start_time": "2023-07-29T13:34:35.812Z"
   },
   {
    "duration": 187,
    "start_time": "2023-07-29T13:34:44.623Z"
   },
   {
    "duration": 88,
    "start_time": "2023-07-29T13:48:54.475Z"
   },
   {
    "duration": 64,
    "start_time": "2023-07-29T13:49:02.239Z"
   },
   {
    "duration": 85,
    "start_time": "2023-07-29T13:49:51.196Z"
   },
   {
    "duration": 66,
    "start_time": "2023-07-29T13:50:24.226Z"
   },
   {
    "duration": 96,
    "start_time": "2023-07-29T13:50:39.166Z"
   },
   {
    "duration": 101,
    "start_time": "2023-07-29T13:51:09.775Z"
   },
   {
    "duration": 79,
    "start_time": "2023-07-29T13:51:34.556Z"
   },
   {
    "duration": 94,
    "start_time": "2023-07-29T13:51:55.056Z"
   },
   {
    "duration": 64,
    "start_time": "2023-07-29T13:52:02.033Z"
   },
   {
    "duration": 60,
    "start_time": "2023-07-29T13:52:58.031Z"
   },
   {
    "duration": 96,
    "start_time": "2023-07-29T13:53:38.346Z"
   },
   {
    "duration": 57,
    "start_time": "2023-07-29T13:53:45.938Z"
   },
   {
    "duration": 166,
    "start_time": "2023-07-29T13:54:09.928Z"
   },
   {
    "duration": 68,
    "start_time": "2023-07-29T13:54:28.922Z"
   },
   {
    "duration": 75,
    "start_time": "2023-07-29T13:58:21.050Z"
   },
   {
    "duration": 73,
    "start_time": "2023-07-29T14:02:03.261Z"
   },
   {
    "duration": 72,
    "start_time": "2023-07-29T14:02:25.536Z"
   },
   {
    "duration": 144,
    "start_time": "2023-07-29T14:04:16.577Z"
   },
   {
    "duration": 156,
    "start_time": "2023-07-29T14:05:21.261Z"
   },
   {
    "duration": 58,
    "start_time": "2023-07-29T14:06:40.526Z"
   },
   {
    "duration": 79,
    "start_time": "2023-07-29T14:06:55.445Z"
   },
   {
    "duration": 70,
    "start_time": "2023-07-29T14:07:22.339Z"
   },
   {
    "duration": 94,
    "start_time": "2023-07-29T14:08:32.163Z"
   },
   {
    "duration": 61,
    "start_time": "2023-07-29T14:08:55.633Z"
   },
   {
    "duration": 46,
    "start_time": "2023-07-29T14:09:05.742Z"
   },
   {
    "duration": 223,
    "start_time": "2023-07-29T14:15:56.964Z"
   },
   {
    "duration": 74,
    "start_time": "2023-07-29T14:16:11.754Z"
   },
   {
    "duration": 70,
    "start_time": "2023-07-29T14:16:26.336Z"
   },
   {
    "duration": 118,
    "start_time": "2023-07-29T14:17:22.877Z"
   },
   {
    "duration": 125,
    "start_time": "2023-07-29T14:20:03.450Z"
   },
   {
    "duration": 72,
    "start_time": "2023-07-29T14:20:22.239Z"
   },
   {
    "duration": 89,
    "start_time": "2023-07-29T14:20:29.683Z"
   },
   {
    "duration": 92,
    "start_time": "2023-07-29T14:20:41.149Z"
   },
   {
    "duration": 91,
    "start_time": "2023-07-29T14:21:16.542Z"
   },
   {
    "duration": 59,
    "start_time": "2023-07-29T14:23:23.430Z"
   },
   {
    "duration": 95,
    "start_time": "2023-07-29T14:23:52.946Z"
   },
   {
    "duration": 64,
    "start_time": "2023-07-29T14:25:20.584Z"
   },
   {
    "duration": 147,
    "start_time": "2023-07-29T14:26:45.834Z"
   },
   {
    "duration": 73,
    "start_time": "2023-07-29T14:27:25.824Z"
   },
   {
    "duration": 78,
    "start_time": "2023-07-29T14:30:05.143Z"
   },
   {
    "duration": 5,
    "start_time": "2023-07-29T14:34:21.729Z"
   },
   {
    "duration": 358,
    "start_time": "2023-07-29T14:34:21.736Z"
   },
   {
    "duration": 14616,
    "start_time": "2023-07-29T14:35:10.922Z"
   },
   {
    "duration": 151,
    "start_time": "2023-07-29T14:35:26.279Z"
   },
   {
    "duration": 57,
    "start_time": "2023-07-29T14:35:26.432Z"
   },
   {
    "duration": 87,
    "start_time": "2023-07-29T14:35:26.490Z"
   },
   {
    "duration": 80,
    "start_time": "2023-07-29T14:35:26.578Z"
   },
   {
    "duration": 75,
    "start_time": "2023-07-29T14:35:26.659Z"
   },
   {
    "duration": 59,
    "start_time": "2023-07-29T14:35:26.736Z"
   },
   {
    "duration": 85,
    "start_time": "2023-07-29T14:35:26.796Z"
   },
   {
    "duration": 77,
    "start_time": "2023-07-29T14:35:26.883Z"
   },
   {
    "duration": 68,
    "start_time": "2023-07-29T14:35:26.962Z"
   },
   {
    "duration": 57,
    "start_time": "2023-07-29T14:35:27.032Z"
   },
   {
    "duration": 85,
    "start_time": "2023-07-29T14:35:27.091Z"
   },
   {
    "duration": 80,
    "start_time": "2023-07-29T14:35:27.177Z"
   },
   {
    "duration": 69,
    "start_time": "2023-07-29T14:35:27.258Z"
   },
   {
    "duration": 55,
    "start_time": "2023-07-29T14:35:27.334Z"
   },
   {
    "duration": 89,
    "start_time": "2023-07-29T14:35:27.390Z"
   },
   {
    "duration": 86,
    "start_time": "2023-07-29T14:35:27.480Z"
   },
   {
    "duration": 81,
    "start_time": "2023-07-29T14:35:27.568Z"
   },
   {
    "duration": 97,
    "start_time": "2023-07-29T14:35:27.651Z"
   },
   {
    "duration": 104,
    "start_time": "2023-07-29T14:37:22.571Z"
   },
   {
    "duration": 22870,
    "start_time": "2023-07-30T08:44:32.270Z"
   },
   {
    "duration": 58,
    "start_time": "2023-07-30T08:44:55.142Z"
   },
   {
    "duration": 52,
    "start_time": "2023-07-30T08:44:55.202Z"
   },
   {
    "duration": 13,
    "start_time": "2023-07-30T08:44:55.256Z"
   },
   {
    "duration": 41,
    "start_time": "2023-07-30T08:44:55.270Z"
   },
   {
    "duration": 23,
    "start_time": "2023-07-30T08:44:55.313Z"
   },
   {
    "duration": 20,
    "start_time": "2023-07-30T08:44:55.337Z"
   },
   {
    "duration": 34,
    "start_time": "2023-07-30T08:44:55.359Z"
   },
   {
    "duration": 12,
    "start_time": "2023-07-30T08:44:55.395Z"
   },
   {
    "duration": 16,
    "start_time": "2023-07-30T08:44:55.411Z"
   },
   {
    "duration": 18,
    "start_time": "2023-07-30T08:44:55.429Z"
   },
   {
    "duration": 33,
    "start_time": "2023-07-30T08:44:55.449Z"
   },
   {
    "duration": 13,
    "start_time": "2023-07-30T08:44:55.484Z"
   },
   {
    "duration": 22,
    "start_time": "2023-07-30T08:44:55.499Z"
   },
   {
    "duration": 15,
    "start_time": "2023-07-30T08:44:55.523Z"
   },
   {
    "duration": 24,
    "start_time": "2023-07-30T08:44:55.540Z"
   },
   {
    "duration": 14,
    "start_time": "2023-07-30T08:44:55.566Z"
   },
   {
    "duration": 49,
    "start_time": "2023-07-30T08:44:55.582Z"
   },
   {
    "duration": 19,
    "start_time": "2023-07-30T08:44:55.633Z"
   }
  ],
  "kernelspec": {
   "display_name": "Python 3 (ipykernel)",
   "language": "python",
   "name": "python3"
  },
  "language_info": {
   "codemirror_mode": {
    "name": "ipython",
    "version": 3
   },
   "file_extension": ".py",
   "mimetype": "text/x-python",
   "name": "python",
   "nbconvert_exporter": "python",
   "pygments_lexer": "ipython3",
   "version": "3.10.9"
  },
  "toc": {
   "base_numbering": 1,
   "nav_menu": {},
   "number_sections": true,
   "sideBar": true,
   "skip_h1_title": true,
   "title_cell": "Table of Contents",
   "title_sidebar": "Contents",
   "toc_cell": false,
   "toc_position": {},
   "toc_section_display": true,
   "toc_window_display": false
  }
 },
 "nbformat": 4,
 "nbformat_minor": 2
}
